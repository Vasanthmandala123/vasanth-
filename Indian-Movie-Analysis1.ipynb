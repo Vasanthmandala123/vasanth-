{
 "cells": [
  {
   "cell_type": "code",
   "execution_count": 2,
   "metadata": {},
   "outputs": [],
   "source": [
    "import numpy as np\n",
    "import pandas as pd\n",
    "import matplotlib as mpl\n",
    "import matplotlib.pyplot as plt\n",
    "%matplotlib inline"
   ]
  },
  {
   "cell_type": "code",
   "execution_count": 3,
   "metadata": {},
   "outputs": [],
   "source": [
    "mpl.rc('figure', figsize = (12,6))\n",
    "mpl.rc('font', size = 14)"
   ]
  },
  {
   "cell_type": "code",
   "execution_count": 4,
   "metadata": {},
   "outputs": [
    {
     "data": {
      "text/html": [
       "<div>\n",
       "<style scoped>\n",
       "    .dataframe tbody tr th:only-of-type {\n",
       "        vertical-align: middle;\n",
       "    }\n",
       "\n",
       "    .dataframe tbody tr th {\n",
       "        vertical-align: top;\n",
       "    }\n",
       "\n",
       "    .dataframe thead th {\n",
       "        text-align: right;\n",
       "    }\n",
       "</style>\n",
       "<table border=\"1\" class=\"dataframe\">\n",
       "  <thead>\n",
       "    <tr style=\"text-align: right;\">\n",
       "      <th></th>\n",
       "      <th>Rating</th>\n",
       "      <th>Votes</th>\n",
       "      <th>Description</th>\n",
       "      <th>Title</th>\n",
       "      <th>Gross</th>\n",
       "      <th>Director</th>\n",
       "      <th>Release</th>\n",
       "      <th>Stars</th>\n",
       "      <th>Genre</th>\n",
       "      <th>Gross (India)</th>\n",
       "    </tr>\n",
       "  </thead>\n",
       "  <tbody>\n",
       "    <tr>\n",
       "      <th>0</th>\n",
       "      <td>8.7</td>\n",
       "      <td>59,702</td>\n",
       "      <td>Biopic of Mahavir Singh Phogat, who taught wre...</td>\n",
       "      <td>Dangal</td>\n",
       "      <td>11,151,900</td>\n",
       "      <td>Nitesh Tiwari</td>\n",
       "      <td>21-Dec-16</td>\n",
       "      <td>Aamir Khan,Sakshi Tanwar,Fatima Sana Shaikh</td>\n",
       "      <td>Action,Biography,Drama,Sport</td>\n",
       "      <td>387.39</td>\n",
       "    </tr>\n",
       "    <tr>\n",
       "      <th>1</th>\n",
       "      <td>8.2</td>\n",
       "      <td>106,800</td>\n",
       "      <td>P. K. is a comedy of ideas about a stranger in...</td>\n",
       "      <td>PK</td>\n",
       "      <td>10,572,800</td>\n",
       "      <td>Rajkumar Hirani</td>\n",
       "      <td>19-Dec-14</td>\n",
       "      <td>Aamir Khan,Anushka Sharma,Sanjay Dutt</td>\n",
       "      <td>Comedy,Drama,Fantasy,Romance,Sci-Fi</td>\n",
       "      <td>339.50</td>\n",
       "    </tr>\n",
       "    <tr>\n",
       "      <th>2</th>\n",
       "      <td>8.1</td>\n",
       "      <td>51,638</td>\n",
       "      <td>A little mute girl from a Pakistan village get...</td>\n",
       "      <td>Bajrangi Bhaijaan</td>\n",
       "      <td>7,655,452</td>\n",
       "      <td>Kabir Khan</td>\n",
       "      <td>17-Jul-15</td>\n",
       "      <td>Salman Khan,Kareena Kapoor Khan,Nawazuddin Sid...</td>\n",
       "      <td>Action,Adventure,Comedy,Drama</td>\n",
       "      <td>320.34</td>\n",
       "    </tr>\n",
       "    <tr>\n",
       "      <th>3</th>\n",
       "      <td>7.2</td>\n",
       "      <td>27,251</td>\n",
       "      <td>Sultan is a story of Sultan Ali Khan - a local...</td>\n",
       "      <td>Sultan</td>\n",
       "      <td>6,173</td>\n",
       "      <td>Ali Abbas Zafar</td>\n",
       "      <td>6-Jul-16</td>\n",
       "      <td>Salman Khan,Anushka Sharma,Marko Zaror</td>\n",
       "      <td>Action,Drama,Family,Romance,Sport</td>\n",
       "      <td>300.45</td>\n",
       "    </tr>\n",
       "    <tr>\n",
       "      <th>4</th>\n",
       "      <td>5.4</td>\n",
       "      <td>36,496</td>\n",
       "      <td>The favourite Indian action franchise is back....</td>\n",
       "      <td>Dhoom 3</td>\n",
       "      <td>8,031,955</td>\n",
       "      <td>Vijay Krishna Acharya</td>\n",
       "      <td>20-Dec-13</td>\n",
       "      <td>Aamir Khan,Katrina Kaif,Abhishek Bachchan</td>\n",
       "      <td>Action,Crime,Drama,Thriller</td>\n",
       "      <td>280.25</td>\n",
       "    </tr>\n",
       "  </tbody>\n",
       "</table>\n",
       "</div>"
      ],
      "text/plain": [
       "   Rating    Votes                                        Description  \\\n",
       "0     8.7   59,702  Biopic of Mahavir Singh Phogat, who taught wre...   \n",
       "1     8.2  106,800  P. K. is a comedy of ideas about a stranger in...   \n",
       "2     8.1   51,638  A little mute girl from a Pakistan village get...   \n",
       "3     7.2   27,251  Sultan is a story of Sultan Ali Khan - a local...   \n",
       "4     5.4   36,496  The favourite Indian action franchise is back....   \n",
       "\n",
       "               Title       Gross               Director    Release  \\\n",
       "0             Dangal  11,151,900          Nitesh Tiwari  21-Dec-16   \n",
       "1                 PK  10,572,800        Rajkumar Hirani  19-Dec-14   \n",
       "2  Bajrangi Bhaijaan   7,655,452             Kabir Khan  17-Jul-15   \n",
       "3             Sultan       6,173        Ali Abbas Zafar   6-Jul-16   \n",
       "4            Dhoom 3   8,031,955  Vijay Krishna Acharya  20-Dec-13   \n",
       "\n",
       "                                               Stars  \\\n",
       "0        Aamir Khan,Sakshi Tanwar,Fatima Sana Shaikh   \n",
       "1              Aamir Khan,Anushka Sharma,Sanjay Dutt   \n",
       "2  Salman Khan,Kareena Kapoor Khan,Nawazuddin Sid...   \n",
       "3             Salman Khan,Anushka Sharma,Marko Zaror   \n",
       "4          Aamir Khan,Katrina Kaif,Abhishek Bachchan   \n",
       "\n",
       "                                 Genre  Gross (India)  \n",
       "0         Action,Biography,Drama,Sport         387.39  \n",
       "1  Comedy,Drama,Fantasy,Romance,Sci-Fi         339.50  \n",
       "2        Action,Adventure,Comedy,Drama         320.34  \n",
       "3    Action,Drama,Family,Romance,Sport         300.45  \n",
       "4          Action,Crime,Drama,Thriller         280.25  "
      ]
     },
     "execution_count": 4,
     "metadata": {},
     "output_type": "execute_result"
    }
   ],
   "source": [
    "file = 'A:\\\\Data Analysis Jupyter\\\\Indian Movies\\\\hindi_movies.csv'\n",
    "data = pd.read_csv(file)\n",
    "data.head()\n"
   ]
  },
  {
   "cell_type": "code",
   "execution_count": 5,
   "metadata": {},
   "outputs": [
    {
     "data": {
      "text/plain": [
       "Rating           <class 'numpy.float64'>\n",
       "Votes                      <class 'str'>\n",
       "Description                <class 'str'>\n",
       "Title                      <class 'str'>\n",
       "Gross                      <class 'str'>\n",
       "Director                   <class 'str'>\n",
       "Release                    <class 'str'>\n",
       "Stars                      <class 'str'>\n",
       "Genre                      <class 'str'>\n",
       "Gross (India)    <class 'numpy.float64'>\n",
       "Name: 0, dtype: object"
      ]
     },
     "execution_count": 5,
     "metadata": {},
     "output_type": "execute_result"
    }
   ],
   "source": [
    "# Data type of each column\n",
    "data.iloc[0].apply(type)"
   ]
  },
  {
   "cell_type": "markdown",
   "metadata": {},
   "source": [
    "## Cleaning\n",
    "*Votes* and *Gross* is of type `string`, should be converted to `integer`.\n",
    "But `pd.to_numeric()` wont work as strings contain commas and commas are to be removed first. "
   ]
  },
  {
   "cell_type": "code",
   "execution_count": 6,
   "metadata": {},
   "outputs": [],
   "source": [
    "# Replace every comma with empty string in column votes\n",
    "data['Votes'] = data['Votes'].str.replace(',', '')\n",
    "# convert values under votes column from String to Integer\n",
    "data['Votes'] = pd.to_numeric(data['Votes'])"
   ]
  },
  {
   "cell_type": "code",
   "execution_count": 7,
   "metadata": {},
   "outputs": [],
   "source": [
    "data['Gross'] = data['Gross'].str.replace(',', '')\n",
    "data['Gross'] = pd.to_numeric(data['Gross'])"
   ]
  },
  {
   "cell_type": "markdown",
   "metadata": {},
   "source": [
    "## Exploring the dataset"
   ]
  },
  {
   "cell_type": "code",
   "execution_count": 8,
   "metadata": {},
   "outputs": [
    {
     "data": {
      "text/plain": [
       "(5607, 10)"
      ]
     },
     "execution_count": 8,
     "metadata": {},
     "output_type": "execute_result"
    }
   ],
   "source": [
    "data.shape"
   ]
  },
  {
   "cell_type": "code",
   "execution_count": 9,
   "metadata": {},
   "outputs": [
    {
     "data": {
      "text/plain": [
       "0"
      ]
     },
     "execution_count": 9,
     "metadata": {},
     "output_type": "execute_result"
    }
   ],
   "source": [
    "data.duplicated().sum()"
   ]
  },
  {
   "cell_type": "markdown",
   "metadata": {},
   "source": [
    "## Analysing the Rating"
   ]
  },
  {
   "cell_type": "code",
   "execution_count": 10,
   "metadata": {},
   "outputs": [
    {
     "data": {
      "text/html": [
       "<div>\n",
       "<style scoped>\n",
       "    .dataframe tbody tr th:only-of-type {\n",
       "        vertical-align: middle;\n",
       "    }\n",
       "\n",
       "    .dataframe tbody tr th {\n",
       "        vertical-align: top;\n",
       "    }\n",
       "\n",
       "    .dataframe thead th {\n",
       "        text-align: right;\n",
       "    }\n",
       "</style>\n",
       "<table border=\"1\" class=\"dataframe\">\n",
       "  <thead>\n",
       "    <tr style=\"text-align: right;\">\n",
       "      <th></th>\n",
       "      <th>Rating</th>\n",
       "      <th>Votes</th>\n",
       "    </tr>\n",
       "  </thead>\n",
       "  <tbody>\n",
       "    <tr>\n",
       "      <th>count</th>\n",
       "      <td>4798.000000</td>\n",
       "      <td>4798.000000</td>\n",
       "    </tr>\n",
       "    <tr>\n",
       "      <th>mean</th>\n",
       "      <td>5.948458</td>\n",
       "      <td>1597.706753</td>\n",
       "    </tr>\n",
       "    <tr>\n",
       "      <th>std</th>\n",
       "      <td>1.364512</td>\n",
       "      <td>6843.694953</td>\n",
       "    </tr>\n",
       "    <tr>\n",
       "      <th>min</th>\n",
       "      <td>1.100000</td>\n",
       "      <td>5.000000</td>\n",
       "    </tr>\n",
       "    <tr>\n",
       "      <th>25%</th>\n",
       "      <td>5.000000</td>\n",
       "      <td>21.000000</td>\n",
       "    </tr>\n",
       "    <tr>\n",
       "      <th>50%</th>\n",
       "      <td>6.100000</td>\n",
       "      <td>70.000000</td>\n",
       "    </tr>\n",
       "    <tr>\n",
       "      <th>75%</th>\n",
       "      <td>7.000000</td>\n",
       "      <td>512.000000</td>\n",
       "    </tr>\n",
       "    <tr>\n",
       "      <th>max</th>\n",
       "      <td>9.000000</td>\n",
       "      <td>244050.000000</td>\n",
       "    </tr>\n",
       "  </tbody>\n",
       "</table>\n",
       "</div>"
      ],
      "text/plain": [
       "            Rating          Votes\n",
       "count  4798.000000    4798.000000\n",
       "mean      5.948458    1597.706753\n",
       "std       1.364512    6843.694953\n",
       "min       1.100000       5.000000\n",
       "25%       5.000000      21.000000\n",
       "50%       6.100000      70.000000\n",
       "75%       7.000000     512.000000\n",
       "max       9.000000  244050.000000"
      ]
     },
     "execution_count": 10,
     "metadata": {},
     "output_type": "execute_result"
    }
   ],
   "source": [
    "# create a df of movies for which a RATING is present\n",
    "movies_with_rating = data[data['Rating'].isnull() ==  False]\n",
    "# summary stats\n",
    "movies_with_rating[['Rating', 'Votes']].describe()"
   ]
  },
  {
   "cell_type": "markdown",
   "metadata": {},
   "source": [
    "The _Rating_ is calculated as the mean of all the ratings a particular movie has recieved. \n",
    "_number of ratings_ recieved is *Votes*. Minimum no. of Votes a movie has received is 5. It is too low, and might create biased Rating.\n",
    "Therefore, remove such bias and consider Rating as valid for which at least 100 votes have been made. Votes > 100."
   ]
  },
  {
   "cell_type": "code",
   "execution_count": 11,
   "metadata": {},
   "outputs": [
    {
     "data": {
      "text/html": [
       "<div>\n",
       "<style scoped>\n",
       "    .dataframe tbody tr th:only-of-type {\n",
       "        vertical-align: middle;\n",
       "    }\n",
       "\n",
       "    .dataframe tbody tr th {\n",
       "        vertical-align: top;\n",
       "    }\n",
       "\n",
       "    .dataframe thead th {\n",
       "        text-align: right;\n",
       "    }\n",
       "</style>\n",
       "<table border=\"1\" class=\"dataframe\">\n",
       "  <thead>\n",
       "    <tr style=\"text-align: right;\">\n",
       "      <th></th>\n",
       "      <th>Rating</th>\n",
       "      <th>Votes</th>\n",
       "    </tr>\n",
       "  </thead>\n",
       "  <tbody>\n",
       "    <tr>\n",
       "      <th>count</th>\n",
       "      <td>2141.000000</td>\n",
       "      <td>2141.000000</td>\n",
       "    </tr>\n",
       "    <tr>\n",
       "      <th>mean</th>\n",
       "      <td>5.930453</td>\n",
       "      <td>3542.204577</td>\n",
       "    </tr>\n",
       "    <tr>\n",
       "      <th>std</th>\n",
       "      <td>1.459720</td>\n",
       "      <td>9907.354596</td>\n",
       "    </tr>\n",
       "    <tr>\n",
       "      <th>min</th>\n",
       "      <td>1.700000</td>\n",
       "      <td>100.000000</td>\n",
       "    </tr>\n",
       "    <tr>\n",
       "      <th>25%</th>\n",
       "      <td>4.900000</td>\n",
       "      <td>248.000000</td>\n",
       "    </tr>\n",
       "    <tr>\n",
       "      <th>50%</th>\n",
       "      <td>6.100000</td>\n",
       "      <td>667.000000</td>\n",
       "    </tr>\n",
       "    <tr>\n",
       "      <th>75%</th>\n",
       "      <td>7.100000</td>\n",
       "      <td>2504.000000</td>\n",
       "    </tr>\n",
       "    <tr>\n",
       "      <th>max</th>\n",
       "      <td>8.900000</td>\n",
       "      <td>244050.000000</td>\n",
       "    </tr>\n",
       "  </tbody>\n",
       "</table>\n",
       "</div>"
      ],
      "text/plain": [
       "            Rating          Votes\n",
       "count  2141.000000    2141.000000\n",
       "mean      5.930453    3542.204577\n",
       "std       1.459720    9907.354596\n",
       "min       1.700000     100.000000\n",
       "25%       4.900000     248.000000\n",
       "50%       6.100000     667.000000\n",
       "75%       7.100000    2504.000000\n",
       "max       8.900000  244050.000000"
      ]
     },
     "execution_count": 11,
     "metadata": {},
     "output_type": "execute_result"
    }
   ],
   "source": [
    "# chunk up only Votes >= 100\n",
    "movies_with_rating = movies_with_rating[movies_with_rating['Votes'] >= 100]\n",
    "movies_with_rating[['Rating','Votes']].describe()"
   ]
  },
  {
   "cell_type": "code",
   "execution_count": 12,
   "metadata": {},
   "outputs": [],
   "source": [
    "plt.style.use('fivethirtyeight')"
   ]
  },
  {
   "cell_type": "code",
   "execution_count": 13,
   "metadata": {},
   "outputs": [
    {
     "data": {
      "image/png": "[encoded data removed]",
      "text/plain": [
       "<Figure size 864x432 with 1 Axes>"
      ]
     },
     "metadata": {},
     "output_type": "display_data"
    }
   ],
   "source": [
    "# plot Histogram\n",
    "plt.hist(movies_with_rating['Rating'].sort_values(), bins = 20 )\n",
    "plt.title(\"Distribution of Movie Rating\")\n",
    "plt.xlabel(\"Rating\")\n",
    "plt.ylabel(\"Number of Movies\")\n",
    "plt.show()"
   ]
  },
  {
   "cell_type": "markdown",
   "metadata": {},
   "source": [
    "Distribution of ratings is **negatively skewed**. The negative slope indicated that few movies _drag down_ **mean** *Rating* of the dataset. Thus, **median** is to be used as it gives a better avg when distrubutions are skewed."
   ]
  },
  {
   "cell_type": "code",
   "execution_count": 14,
   "metadata": {},
   "outputs": [
    {
     "data": {
      "image/png": "[encoded data removed]",
      "text/plain": [
       "<Figure size 864x432 with 1 Axes>"
      ]
     },
     "metadata": {},
     "output_type": "display_data"
    }
   ],
   "source": [
    "# Boxplot to show rante of ratings\n",
    "plt.boxplot(movies_with_rating['Rating'], vert = False)\n",
    "plt.xlabel('Rating')\n",
    "plt.show()"
   ]
  },
  {
   "cell_type": "code",
   "execution_count": 15,
   "metadata": {},
   "outputs": [
    {
     "name": "stdout",
     "output_type": "stream",
     "text": [
      "Median\n"
     ]
    },
    {
     "data": {
      "text/plain": [
       "6.1"
      ]
     },
     "execution_count": 15,
     "metadata": {},
     "output_type": "execute_result"
    }
   ],
   "source": [
    "print(\"Median\")\n",
    "movies_with_rating['Rating'].median()"
   ]
  },
  {
   "cell_type": "markdown",
   "metadata": {},
   "source": [
    "The orange line in boxplot shows the median which is **6.1** and there are no outliers."
   ]
  },
  {
   "cell_type": "markdown",
   "metadata": {},
   "source": [
    "## Analysing 'Gross'\n",
    "There are 2 Gross columns, Gross column represents US box earnings and Gross(India) column represents box office collection in India"
   ]
  },
  {
   "cell_type": "markdown",
   "metadata": {},
   "source": [
    "### Box office Gross (USA)"
   ]
  },
  {
   "cell_type": "code",
   "execution_count": 17,
   "metadata": {},
   "outputs": [
    {
     "data": {
      "text/plain": [
       "304"
      ]
     },
     "execution_count": 17,
     "metadata": {},
     "output_type": "execute_result"
    }
   ],
   "source": [
    "# Create a df of movies where Gross USA figure is present\n",
    "movies_with_gross = data[data['Gross'].isnull() == False]\n",
    "#display number of movies having Gross count\n",
    "movies_with_gross['Gross'].count() "
   ]
  },
  {
   "cell_type": "code",
   "execution_count": 18,
   "metadata": {},
   "outputs": [
    {
     "data": {
      "text/plain": [
       "count    3.040000e+02\n",
       "mean     1.039095e+06\n",
       "std      1.617755e+06\n",
       "min      1.954000e+03\n",
       "25%      2.205232e+05\n",
       "50%      5.409520e+05\n",
       "75%      1.159148e+06\n",
       "max      1.387697e+07\n",
       "Name: Gross, dtype: float64"
      ]
     },
     "execution_count": 18,
     "metadata": {},
     "output_type": "execute_result"
    }
   ],
   "source": [
    "movies_with_gross['Gross'].describe()"
   ]
  },
  {
   "cell_type": "code",
   "execution_count": 19,
   "metadata": {},
   "outputs": [
    {
     "data": {
      "image/png": "[encoded data removed]",
      "text/plain": [
       "<Figure size 864x432 with 1 Axes>"
      ]
     },
     "metadata": {},
     "output_type": "display_data"
    }
   ],
   "source": [
    "#plot histogram of US gross\n",
    "plt.hist(movies_with_gross['Gross'].sort_values(), bins = 80)\n",
    "plt.title(\"Box Office Gross in USA\")\n",
    "plt.xlabel(\"Box Office Gross in USD\")\n",
    "plt.ylabel('Number of Movies')\n",
    "plt.show()"
   ]
  },
  {
   "cell_type": "markdown",
   "metadata": {},
   "source": [
    "Distrubution is skewed heavily towards right as very few movies have grossed beyond 0.4 millions. Most of them gross in the range of 0.0 to 0.4 ."
   ]
  },
  {
   "cell_type": "code",
   "execution_count": 20,
   "metadata": {},
   "outputs": [
    {
     "data": {
      "image/png": "[encoded data removed]",
      "text/plain": [
       "<Figure size 864x432 with 1 Axes>"
      ]
     },
     "metadata": {},
     "output_type": "display_data"
    }
   ],
   "source": [
    "plt.boxplot(movies_with_gross['Gross'], vert = False)\n",
    "plt.title(\"Boxplot of Box Office Gross USA\")\n",
    "plt.xlabel('Gross in USD')\n",
    "plt.show()"
   ]
  },
  {
   "cell_type": "markdown",
   "metadata": {},
   "source": [
    "It can be seen, median is quite low. And handful of movies make good money than the average, this is shown by the outliers on the boxplot."
   ]
  },
  {
   "cell_type": "code",
   "execution_count": 66,
   "metadata": {},
   "outputs": [
    {
     "data": {
      "text/plain": [
       "(220523.25, 1159148.25)"
      ]
     },
     "execution_count": 66,
     "metadata": {},
     "output_type": "execute_result"
    }
   ],
   "source": [
    "# finding the outliers in the dataset\n",
    "q1 = movies_with_gross['Gross'].quantile(0.25)\n",
    "q3 = movies_with_gross['Gross'].quantile(0.75)\n",
    "q1, q3\n",
    "\n",
    "# 25th percentile of the data 2,20,523.25, 75th percentile data 11,59,148.25"
   ]
  },
  {
   "cell_type": "code",
   "execution_count": 67,
   "metadata": {},
   "outputs": [
    {
     "data": {
      "text/plain": [
       "938625.0"
      ]
     },
     "execution_count": 67,
     "metadata": {},
     "output_type": "execute_result"
    }
   ],
   "source": [
    "iqr = q3 - q1 \n",
    "iqr\n",
    "# 9,38,625"
   ]
  },
  {
   "cell_type": "markdown",
   "metadata": {},
   "source": [
    "Quantiles are lines that divide group into equal groups.\n",
    "Percentiles divide lines into 100 equally sized groups.\n"
   ]
  },
  {
   "cell_type": "code",
   "execution_count": 68,
   "metadata": {},
   "outputs": [
    {
     "data": {
      "text/plain": [
       "938625.0"
      ]
     },
     "execution_count": 68,
     "metadata": {},
     "output_type": "execute_result"
    }
   ],
   "source": [
    "1159148.25- 220523.25\n"
   ]
  },
  {
   "cell_type": "markdown",
   "metadata": {},
   "source": [
    "#### IQR - Intquartile Range.\n",
    "measure of variability, based on dividing a data set into quartiles.\n",
    "\n",
    "The interquartile range iqr is the range of the middle 50% of the values in a data set, which is calculated as the difference between the 75th [upper quartile Q3] and 25th percentile [lower quartile Q1] values.\n",
    "\n",
    "Mild outliers are those lower than the 25th quartile [Q1] minus 1.5 x IQR or greater than the 75th quartile [Q3] plus 1.5 x IQR.\n",
    "\n",
    "Reference - https://www.back2code.me/2017/08/outliers/"
   ]
  },
  {
   "cell_type": "code",
   "execution_count": 69,
   "metadata": {},
   "outputs": [
    {
     "name": "stdout",
     "output_type": "stream",
     "text": [
      "      Rating  Votes  Description  Title  Gross  Director  Release  Stars  \\\n",
      "0      False  False         True   True   True      True     True   True   \n",
      "1      False  False         True   True   True      True     True   True   \n",
      "2      False  False         True   True   True      True     True   True   \n",
      "3      False  False         True   True  False      True     True   True   \n",
      "4      False  False         True   True   True      True     True   True   \n",
      "5      False  False         True   True  False      True     True   True   \n",
      "6      False  False         True   True  False      True     True   True   \n",
      "7      False  False         True   True   True      True     True   True   \n",
      "8      False  False         True   True   True      True     True   True   \n",
      "10     False  False         True   True  False      True     True   True   \n",
      "11     False  False         True   True   True      True     True   True   \n",
      "12     False  False         True   True   True      True     True   True   \n",
      "13     False  False         True   True  False      True     True   True   \n",
      "14     False  False         True   True  False      True     True   True   \n",
      "18     False  False         True   True  False      True     True   True   \n",
      "19     False  False         True   True   True      True     True   True   \n",
      "21     False  False         True   True  False      True     True   True   \n",
      "22     False  False         True   True  False      True     True   True   \n",
      "27     False  False         True   True  False      True     True   True   \n",
      "28     False  False         True   True   True      True     True   True   \n",
      "29     False  False         True   True  False      True     True   True   \n",
      "30     False  False         True   True   True      True     True   True   \n",
      "31     False  False         True   True  False      True     True   True   \n",
      "32     False  False         True   True  False      True     True   True   \n",
      "33     False  False         True   True  False      True     True   True   \n",
      "34     False  False         True   True  False      True     True   True   \n",
      "36     False  False         True   True   True      True     True   True   \n",
      "37     False  False         True   True  False      True     True   True   \n",
      "38     False  False         True   True  False      True     True   True   \n",
      "40     False  False         True   True  False      True     True   True   \n",
      "...      ...    ...          ...    ...    ...       ...      ...    ...   \n",
      "1509   False  False         True   True  False      True     True   True   \n",
      "1531   False  False         True   True  False      True     True   True   \n",
      "1544   False  False         True   True  False      True     True   True   \n",
      "1551   False  False         True   True  False      True     True   True   \n",
      "1553   False  False         True   True  False      True     True   True   \n",
      "1560   False  False         True   True  False      True     True   True   \n",
      "1589   False  False         True   True  False      True     True   True   \n",
      "1638   False  False         True   True  False      True     True   True   \n",
      "1654   False  False         True   True  False      True     True   True   \n",
      "1663   False  False         True   True  False      True     True   True   \n",
      "1665   False  False         True   True  False      True     True   True   \n",
      "1669   False  False         True   True  False      True     True   True   \n",
      "1711   False  False         True   True  False      True     True   True   \n",
      "1733   False  False         True   True   True      True     True   True   \n",
      "1761   False  False         True   True  False      True     True   True   \n",
      "1786   False  False         True   True  False      True     True   True   \n",
      "1798   False  False         True   True  False      True     True   True   \n",
      "1847   False  False         True   True  False      True     True   True   \n",
      "1867   False  False         True   True  False      True     True   True   \n",
      "1945   False  False         True   True  False      True     True   True   \n",
      "1998   False  False         True   True  False      True     True   True   \n",
      "2059   False  False         True   True  False      True     True   True   \n",
      "2156   False  False         True   True  False      True     True   True   \n",
      "2185   False  False         True   True  False      True     True   True   \n",
      "2502   False  False         True   True  False      True     True   True   \n",
      "2720   False  False         True   True  False      True     True   True   \n",
      "2738   False  False         True   True  False      True     True   True   \n",
      "2940   False  False         True   True  False      True     True   True   \n",
      "3165   False  False         True   True  False      True     True   True   \n",
      "3173   False  False         True   True  False      True     True   True   \n",
      "\n",
      "      Genre  Gross (India)  \n",
      "0      True          False  \n",
      "1      True          False  \n",
      "2      True          False  \n",
      "3      True          False  \n",
      "4      True          False  \n",
      "5      True          False  \n",
      "6      True          False  \n",
      "7      True          False  \n",
      "8      True          False  \n",
      "10     True          False  \n",
      "11     True          False  \n",
      "12     True          False  \n",
      "13     True          False  \n",
      "14     True          False  \n",
      "18     True          False  \n",
      "19     True          False  \n",
      "21     True          False  \n",
      "22     True          False  \n",
      "27     True          False  \n",
      "28     True          False  \n",
      "29     True          False  \n",
      "30     True          False  \n",
      "31     True          False  \n",
      "32     True          False  \n",
      "33     True          False  \n",
      "34     True          False  \n",
      "36     True          False  \n",
      "37     True          False  \n",
      "38     True          False  \n",
      "40     True          False  \n",
      "...     ...            ...  \n",
      "1509   True          False  \n",
      "1531   True          False  \n",
      "1544   True          False  \n",
      "1551   True          False  \n",
      "1553   True          False  \n",
      "1560   True          False  \n",
      "1589   True          False  \n",
      "1638   True          False  \n",
      "1654   True          False  \n",
      "1663   True          False  \n",
      "1665   True          False  \n",
      "1669   True          False  \n",
      "1711   True          False  \n",
      "1733   True          False  \n",
      "1761   True          False  \n",
      "1786   True          False  \n",
      "1798   True          False  \n",
      "1847   True          False  \n",
      "1867   True          False  \n",
      "1945   True          False  \n",
      "1998   True          False  \n",
      "2059   True          False  \n",
      "2156   True          False  \n",
      "2185   True          False  \n",
      "2502   True          False  \n",
      "2720   True          False  \n",
      "2738   True          False  \n",
      "2940   True          False  \n",
      "3165   True          False  \n",
      "3173   True          False  \n",
      "\n",
      "[304 rows x 10 columns]\n"
     ]
    }
   ],
   "source": [
    "print(movies_with_gross > (q3 + 1.5 * iqr))\n",
    "\n",
    "# False indicates valid points, true = presence of outliers"
   ]
  },
  {
   "cell_type": "code",
   "execution_count": 70,
   "metadata": {},
   "outputs": [
    {
     "data": {
      "text/html": [
       "<div>\n",
       "<style scoped>\n",
       "    .dataframe tbody tr th:only-of-type {\n",
       "        vertical-align: middle;\n",
       "    }\n",
       "\n",
       "    .dataframe tbody tr th {\n",
       "        vertical-align: top;\n",
       "    }\n",
       "\n",
       "    .dataframe thead th {\n",
       "        text-align: right;\n",
       "    }\n",
       "</style>\n",
       "<table border=\"1\" class=\"dataframe\">\n",
       "  <thead>\n",
       "    <tr style=\"text-align: right;\">\n",
       "      <th></th>\n",
       "      <th>Rating</th>\n",
       "      <th>Votes</th>\n",
       "      <th>Gross</th>\n",
       "      <th>Gross (India)</th>\n",
       "    </tr>\n",
       "  </thead>\n",
       "  <tbody>\n",
       "    <tr>\n",
       "      <th>count</th>\n",
       "      <td>28.000000</td>\n",
       "      <td>28.000000</td>\n",
       "      <td>2.800000e+01</td>\n",
       "      <td>16.000000</td>\n",
       "    </tr>\n",
       "    <tr>\n",
       "      <th>mean</th>\n",
       "      <td>7.025000</td>\n",
       "      <td>42729.142857</td>\n",
       "      <td>4.929001e+06</td>\n",
       "      <td>183.310625</td>\n",
       "    </tr>\n",
       "    <tr>\n",
       "      <th>std</th>\n",
       "      <td>1.083761</td>\n",
       "      <td>45283.741383</td>\n",
       "      <td>2.897258e+06</td>\n",
       "      <td>103.728969</td>\n",
       "    </tr>\n",
       "    <tr>\n",
       "      <th>min</th>\n",
       "      <td>4.700000</td>\n",
       "      <td>1558.000000</td>\n",
       "      <td>2.633885e+06</td>\n",
       "      <td>22.210000</td>\n",
       "    </tr>\n",
       "    <tr>\n",
       "      <th>25%</th>\n",
       "      <td>6.325000</td>\n",
       "      <td>20244.500000</td>\n",
       "      <td>3.069054e+06</td>\n",
       "      <td>109.375000</td>\n",
       "    </tr>\n",
       "    <tr>\n",
       "      <th>50%</th>\n",
       "      <td>7.150000</td>\n",
       "      <td>31601.500000</td>\n",
       "      <td>3.739582e+06</td>\n",
       "      <td>161.500000</td>\n",
       "    </tr>\n",
       "    <tr>\n",
       "      <th>75%</th>\n",
       "      <td>7.925000</td>\n",
       "      <td>46213.750000</td>\n",
       "      <td>5.610831e+06</td>\n",
       "      <td>240.087500</td>\n",
       "    </tr>\n",
       "    <tr>\n",
       "      <th>max</th>\n",
       "      <td>8.700000</td>\n",
       "      <td>244050.000000</td>\n",
       "      <td>1.387697e+07</td>\n",
       "      <td>387.390000</td>\n",
       "    </tr>\n",
       "  </tbody>\n",
       "</table>\n",
       "</div>"
      ],
      "text/plain": [
       "          Rating          Votes         Gross  Gross (India)\n",
       "count  28.000000      28.000000  2.800000e+01      16.000000\n",
       "mean    7.025000   42729.142857  4.929001e+06     183.310625\n",
       "std     1.083761   45283.741383  2.897258e+06     103.728969\n",
       "min     4.700000    1558.000000  2.633885e+06      22.210000\n",
       "25%     6.325000   20244.500000  3.069054e+06     109.375000\n",
       "50%     7.150000   31601.500000  3.739582e+06     161.500000\n",
       "75%     7.925000   46213.750000  5.610831e+06     240.087500\n",
       "max     8.700000  244050.000000  1.387697e+07     387.390000"
      ]
     },
     "execution_count": 70,
     "metadata": {},
     "output_type": "execute_result"
    }
   ],
   "source": [
    "outliers = movies_with_gross.query('Gross > (@q3 + 1.5*@iqr)')\n",
    "outliers.describe()"
   ]
  },
  {
   "cell_type": "markdown",
   "metadata": {},
   "source": [
    "**28** out of 304 movies can be considered as outliers."
   ]
  },
  {
   "cell_type": "code",
   "execution_count": 72,
   "metadata": {},
   "outputs": [
    {
     "name": "stdout",
     "output_type": "stream",
     "text": [
      "Median gross of all movies = 540952.0\n",
      "Median gross of Outliers = 3739582.5\n",
      "Ratio of mean gross = 4.743551207424231\n",
      "Ratio of median gross = 6.912965475679912\n",
      "Percentage of outliers = 9.210526315789473\n"
     ]
    }
   ],
   "source": [
    "# Display the median value for US Gross (Outliers)\n",
    "print(\"Median gross of all movies = {}\".format(movies_with_gross['Gross'].median()))\n",
    "print(\"Median gross of Outliers = {}\".format(outliers['Gross'].median()))\n",
    "print(\"Ratio of mean gross = {}\".format(outliers['Gross'].mean()/movies_with_gross['Gross'].mean()))\n",
    "print(\"Ratio of median gross = {}\".format(outliers['Gross'].median()/movies_with_gross['Gross'].median()))\n",
    "print(\"Percentage of outliers = {}\".format(outliers['Title'].count()/movies_with_gross['Title'].count() * 100))"
   ]
  },
  {
   "cell_type": "code",
   "execution_count": 78,
   "metadata": {},
   "outputs": [
    {
     "data": {
      "image/png": "[encoded data removed]",
      "text/plain": [
       "<Figure size 864x432 with 1 Axes>"
      ]
     },
     "metadata": {},
     "output_type": "display_data"
    }
   ],
   "source": [
    "# Plot a histogram of US gross (Outliers)\n",
    "plt.hist(outliers['Gross'].sort_values(), bins=100)\n",
    "plt.title(\"Box Office Gross (USA) [OUTLIERS]\")\n",
    "plt.xlabel(\"Box Office Gross in USD\")\n",
    "plt.ylabel(\"Number of Movies\")\n",
    "plt.show()"
   ]
  },
  {
   "cell_type": "markdown",
   "metadata": {},
   "source": [
    "Histogram depicts a positive skewness. Therefore, there exists **outliers within** `outliers`."
   ]
  },
  {
   "cell_type": "code",
   "execution_count": 87,
   "metadata": {},
   "outputs": [
    {
     "name": "stdout",
     "output_type": "stream",
     "text": [
      "Movies which have a US box office gross above $5 million:\n"
     ]
    },
    {
     "data": {
      "text/html": [
       "<div>\n",
       "<style scoped>\n",
       "    .dataframe tbody tr th:only-of-type {\n",
       "        vertical-align: middle;\n",
       "    }\n",
       "\n",
       "    .dataframe tbody tr th {\n",
       "        vertical-align: top;\n",
       "    }\n",
       "\n",
       "    .dataframe thead th {\n",
       "        text-align: right;\n",
       "    }\n",
       "</style>\n",
       "<table border=\"1\" class=\"dataframe\">\n",
       "  <thead>\n",
       "    <tr style=\"text-align: right;\">\n",
       "      <th></th>\n",
       "      <th>Title</th>\n",
       "      <th>Director</th>\n",
       "      <th>Stars</th>\n",
       "      <th>Rating</th>\n",
       "      <th>Gross</th>\n",
       "      <th>Gross (India)</th>\n",
       "      <th>Release</th>\n",
       "    </tr>\n",
       "  </thead>\n",
       "  <tbody>\n",
       "    <tr>\n",
       "      <th>0</th>\n",
       "      <td>Monsoon Wedding</td>\n",
       "      <td>Mira Nair</td>\n",
       "      <td>Naseeruddin Shah,Lillete Dubey,Shefali Shetty</td>\n",
       "      <td>7.4</td>\n",
       "      <td>13876974.0</td>\n",
       "      <td>NaN</td>\n",
       "      <td>26 April 2002</td>\n",
       "    </tr>\n",
       "    <tr>\n",
       "      <th>1</th>\n",
       "      <td>Dangal</td>\n",
       "      <td>Nitesh Tiwari</td>\n",
       "      <td>Aamir Khan,Sakshi Tanwar,Fatima Sana Shaikh</td>\n",
       "      <td>8.7</td>\n",
       "      <td>11151900.0</td>\n",
       "      <td>387.39</td>\n",
       "      <td>21-Dec-16</td>\n",
       "    </tr>\n",
       "    <tr>\n",
       "      <th>2</th>\n",
       "      <td>PK</td>\n",
       "      <td>Rajkumar Hirani</td>\n",
       "      <td>Aamir Khan,Anushka Sharma,Sanjay Dutt</td>\n",
       "      <td>8.2</td>\n",
       "      <td>10572800.0</td>\n",
       "      <td>339.50</td>\n",
       "      <td>19-Dec-14</td>\n",
       "    </tr>\n",
       "    <tr>\n",
       "      <th>3</th>\n",
       "      <td>Dhoom 3</td>\n",
       "      <td>Vijay Krishna Acharya</td>\n",
       "      <td>Aamir Khan,Katrina Kaif,Abhishek Bachchan</td>\n",
       "      <td>5.4</td>\n",
       "      <td>8031955.0</td>\n",
       "      <td>280.25</td>\n",
       "      <td>20-Dec-13</td>\n",
       "    </tr>\n",
       "    <tr>\n",
       "      <th>4</th>\n",
       "      <td>Bajrangi Bhaijaan</td>\n",
       "      <td>Kabir Khan</td>\n",
       "      <td>Salman Khan,Kareena Kapoor Khan,Nawazuddin Sid...</td>\n",
       "      <td>8.1</td>\n",
       "      <td>7655452.0</td>\n",
       "      <td>320.34</td>\n",
       "      <td>17-Jul-15</td>\n",
       "    </tr>\n",
       "    <tr>\n",
       "      <th>5</th>\n",
       "      <td>Bajirao Mastani</td>\n",
       "      <td>Sanjay Leela Bhansali</td>\n",
       "      <td>Ranveer Singh,Priyanka Chopra,Deepika Padukone</td>\n",
       "      <td>7.2</td>\n",
       "      <td>6557047.0</td>\n",
       "      <td>184.00</td>\n",
       "      <td>18-Dec-15</td>\n",
       "    </tr>\n",
       "    <tr>\n",
       "      <th>6</th>\n",
       "      <td>3 Idiots</td>\n",
       "      <td>Rajkumar Hirani</td>\n",
       "      <td>Aamir Khan,Madhavan,Mona Singh</td>\n",
       "      <td>8.4</td>\n",
       "      <td>6523137.0</td>\n",
       "      <td>NaN</td>\n",
       "      <td>25-Dec-09</td>\n",
       "    </tr>\n",
       "    <tr>\n",
       "      <th>7</th>\n",
       "      <td>Chennai Express</td>\n",
       "      <td>Rohit Shetty</td>\n",
       "      <td>Deepika Padukone,Shah Rukh Khan,Sathyaraj</td>\n",
       "      <td>6.0</td>\n",
       "      <td>5306729.0</td>\n",
       "      <td>226.70</td>\n",
       "      <td>8-Aug-13</td>\n",
       "    </tr>\n",
       "  </tbody>\n",
       "</table>\n",
       "</div>"
      ],
      "text/plain": [
       "               Title               Director  \\\n",
       "0    Monsoon Wedding              Mira Nair   \n",
       "1             Dangal          Nitesh Tiwari   \n",
       "2                 PK        Rajkumar Hirani   \n",
       "3            Dhoom 3  Vijay Krishna Acharya   \n",
       "4  Bajrangi Bhaijaan             Kabir Khan   \n",
       "5    Bajirao Mastani  Sanjay Leela Bhansali   \n",
       "6           3 Idiots        Rajkumar Hirani   \n",
       "7    Chennai Express           Rohit Shetty   \n",
       "\n",
       "                                               Stars  Rating       Gross  \\\n",
       "0      Naseeruddin Shah,Lillete Dubey,Shefali Shetty     7.4  13876974.0   \n",
       "1        Aamir Khan,Sakshi Tanwar,Fatima Sana Shaikh     8.7  11151900.0   \n",
       "2              Aamir Khan,Anushka Sharma,Sanjay Dutt     8.2  10572800.0   \n",
       "3          Aamir Khan,Katrina Kaif,Abhishek Bachchan     5.4   8031955.0   \n",
       "4  Salman Khan,Kareena Kapoor Khan,Nawazuddin Sid...     8.1   7655452.0   \n",
       "5     Ranveer Singh,Priyanka Chopra,Deepika Padukone     7.2   6557047.0   \n",
       "6                     Aamir Khan,Madhavan,Mona Singh     8.4   6523137.0   \n",
       "7          Deepika Padukone,Shah Rukh Khan,Sathyaraj     6.0   5306729.0   \n",
       "\n",
       "   Gross (India)        Release  \n",
       "0            NaN  26 April 2002  \n",
       "1         387.39      21-Dec-16  \n",
       "2         339.50      19-Dec-14  \n",
       "3         280.25      20-Dec-13  \n",
       "4         320.34      17-Jul-15  \n",
       "5         184.00      18-Dec-15  \n",
       "6            NaN      25-Dec-09  \n",
       "7         226.70       8-Aug-13  "
      ]
     },
     "execution_count": 87,
     "metadata": {},
     "output_type": "execute_result"
    }
   ],
   "source": [
    "# Outliers within the outliers. \n",
    "print(\"Movies which have a US box office gross above $5 million:\")\n",
    "high_gross_in_us = movies_with_gross[movies_with_gross['Gross'] > 5.0e+6].sort_values('Gross', ascending=False)\n",
    "high_gross_in_us.reset_index(inplace=True)\n",
    "high_gross_in_us[['Title', 'Director', 'Stars', 'Rating', 'Gross', 'Gross (India)', 'Release']]"
   ]
  },
  {
   "cell_type": "markdown",
   "metadata": {},
   "source": [
    "**Monsoon Wedding** is the highest gross Indian movie in USA following Dangal and PK."
   ]
  },
  {
   "cell_type": "markdown",
   "metadata": {},
   "source": [
    "# BOX OFFICE GROSS(INDIA)\n"
   ]
  },
  {
   "cell_type": "code",
   "execution_count": 88,
   "metadata": {},
   "outputs": [
    {
     "data": {
      "text/plain": [
       "count    380.000000\n",
       "mean      43.651579\n",
       "std       55.031905\n",
       "min        0.400000\n",
       "25%        7.500000\n",
       "50%       26.535000\n",
       "75%       58.540000\n",
       "max      387.390000\n",
       "Name: Gross (India), dtype: float64"
      ]
     },
     "execution_count": 88,
     "metadata": {},
     "output_type": "execute_result"
    }
   ],
   "source": [
    "# Create a df of movies for which Indian Gross Fig is present\n",
    "movies_with_gross_india = data[data['Gross (India)'].isnull() == False ]\n",
    "movies_with_gross_india['Gross (India)'].describe()"
   ]
  },
  {
   "cell_type": "markdown",
   "metadata": {},
   "source": [
    "380 Movies are present for which Gross Figs in India are given.\n"
   ]
  },
  {
   "cell_type": "code",
   "execution_count": 89,
   "metadata": {},
   "outputs": [
    {
     "data": {
      "image/png": "[encoded data removed]",
      "text/plain": [
       "<Figure size 864x432 with 1 Axes>"
      ]
     },
     "metadata": {},
     "output_type": "display_data"
    }
   ],
   "source": [
    "# Plot a histogram of Indian gross\n",
    "plt.hist(movies_with_gross_india['Gross (India)'].sort_values(), bins=76)\n",
    "plt.title(\"Box Office Gross (India)\")\n",
    "plt.xlabel(\"Box Office Gross in 1e7 INR\")\n",
    "plt.ylabel(\"Number of Movies\")\n",
    "plt.show()"
   ]
  },
  {
   "cell_type": "markdown",
   "metadata": {},
   "source": [
    "**Positively Skewed**. Consider median rather than mean as few outliers increase the avg significantly."
   ]
  },
  {
   "cell_type": "code",
   "execution_count": 92,
   "metadata": {},
   "outputs": [
    {
     "data": {
      "image/png": "[encoded data removed]",
      "text/plain": [
       "<Figure size 864x432 with 1 Axes>"
      ]
     },
     "metadata": {},
     "output_type": "display_data"
    }
   ],
   "source": [
    "# Create a boxplot to show the range of Indian Gross\n",
    "plt.boxplot(movies_with_gross_india['Gross (India)'], vert = False)\n",
    "plt.title('Boxplot of Box Office Gross (India)')\n",
    "plt.xlabel('Gross in 1e7 INR')\n",
    "plt.show()"
   ]
  },
  {
   "cell_type": "markdown",
   "metadata": {},
   "source": [
    "Median is quite **low**."
   ]
  },
  {
   "cell_type": "code",
   "execution_count": 99,
   "metadata": {},
   "outputs": [
    {
     "data": {
      "text/html": [
       "<div>\n",
       "<style scoped>\n",
       "    .dataframe tbody tr th:only-of-type {\n",
       "        vertical-align: middle;\n",
       "    }\n",
       "\n",
       "    .dataframe tbody tr th {\n",
       "        vertical-align: top;\n",
       "    }\n",
       "\n",
       "    .dataframe thead th {\n",
       "        text-align: right;\n",
       "    }\n",
       "</style>\n",
       "<table border=\"1\" class=\"dataframe\">\n",
       "  <thead>\n",
       "    <tr style=\"text-align: right;\">\n",
       "      <th></th>\n",
       "      <th>Rating</th>\n",
       "      <th>Votes</th>\n",
       "      <th>Description</th>\n",
       "      <th>Title</th>\n",
       "      <th>Gross</th>\n",
       "      <th>Director</th>\n",
       "      <th>Release</th>\n",
       "      <th>Stars</th>\n",
       "      <th>Genre</th>\n",
       "      <th>Gross (India)</th>\n",
       "    </tr>\n",
       "  </thead>\n",
       "  <tbody>\n",
       "    <tr>\n",
       "      <th>0</th>\n",
       "      <td>8.7</td>\n",
       "      <td>59702.0</td>\n",
       "      <td>Biopic of Mahavir Singh Phogat, who taught wre...</td>\n",
       "      <td>Dangal</td>\n",
       "      <td>11151900.0</td>\n",
       "      <td>Nitesh Tiwari</td>\n",
       "      <td>21-Dec-16</td>\n",
       "      <td>Aamir Khan,Sakshi Tanwar,Fatima Sana Shaikh</td>\n",
       "      <td>Action,Biography,Drama,Sport</td>\n",
       "      <td>387.39</td>\n",
       "    </tr>\n",
       "    <tr>\n",
       "      <th>1</th>\n",
       "      <td>8.2</td>\n",
       "      <td>106800.0</td>\n",
       "      <td>P. K. is a comedy of ideas about a stranger in...</td>\n",
       "      <td>PK</td>\n",
       "      <td>10572800.0</td>\n",
       "      <td>Rajkumar Hirani</td>\n",
       "      <td>19-Dec-14</td>\n",
       "      <td>Aamir Khan,Anushka Sharma,Sanjay Dutt</td>\n",
       "      <td>Comedy,Drama,Fantasy,Romance,Sci-Fi</td>\n",
       "      <td>339.50</td>\n",
       "    </tr>\n",
       "    <tr>\n",
       "      <th>2</th>\n",
       "      <td>8.1</td>\n",
       "      <td>51638.0</td>\n",
       "      <td>A little mute girl from a Pakistan village get...</td>\n",
       "      <td>Bajrangi Bhaijaan</td>\n",
       "      <td>7655452.0</td>\n",
       "      <td>Kabir Khan</td>\n",
       "      <td>17-Jul-15</td>\n",
       "      <td>Salman Khan,Kareena Kapoor Khan,Nawazuddin Sid...</td>\n",
       "      <td>Action,Adventure,Comedy,Drama</td>\n",
       "      <td>320.34</td>\n",
       "    </tr>\n",
       "    <tr>\n",
       "      <th>3</th>\n",
       "      <td>7.2</td>\n",
       "      <td>27251.0</td>\n",
       "      <td>Sultan is a story of Sultan Ali Khan - a local...</td>\n",
       "      <td>Sultan</td>\n",
       "      <td>6173.0</td>\n",
       "      <td>Ali Abbas Zafar</td>\n",
       "      <td>6-Jul-16</td>\n",
       "      <td>Salman Khan,Anushka Sharma,Marko Zaror</td>\n",
       "      <td>Action,Drama,Family,Romance,Sport</td>\n",
       "      <td>300.45</td>\n",
       "    </tr>\n",
       "    <tr>\n",
       "      <th>4</th>\n",
       "      <td>5.4</td>\n",
       "      <td>36496.0</td>\n",
       "      <td>The favourite Indian action franchise is back....</td>\n",
       "      <td>Dhoom 3</td>\n",
       "      <td>8031955.0</td>\n",
       "      <td>Vijay Krishna Acharya</td>\n",
       "      <td>20-Dec-13</td>\n",
       "      <td>Aamir Khan,Katrina Kaif,Abhishek Bachchan</td>\n",
       "      <td>Action,Crime,Drama,Thriller</td>\n",
       "      <td>280.25</td>\n",
       "    </tr>\n",
       "  </tbody>\n",
       "</table>\n",
       "</div>"
      ],
      "text/plain": [
       "   Rating     Votes                                        Description  \\\n",
       "0     8.7   59702.0  Biopic of Mahavir Singh Phogat, who taught wre...   \n",
       "1     8.2  106800.0  P. K. is a comedy of ideas about a stranger in...   \n",
       "2     8.1   51638.0  A little mute girl from a Pakistan village get...   \n",
       "3     7.2   27251.0  Sultan is a story of Sultan Ali Khan - a local...   \n",
       "4     5.4   36496.0  The favourite Indian action franchise is back....   \n",
       "\n",
       "               Title       Gross               Director    Release  \\\n",
       "0             Dangal  11151900.0          Nitesh Tiwari  21-Dec-16   \n",
       "1                 PK  10572800.0        Rajkumar Hirani  19-Dec-14   \n",
       "2  Bajrangi Bhaijaan   7655452.0             Kabir Khan  17-Jul-15   \n",
       "3             Sultan      6173.0        Ali Abbas Zafar   6-Jul-16   \n",
       "4            Dhoom 3   8031955.0  Vijay Krishna Acharya  20-Dec-13   \n",
       "\n",
       "                                               Stars  \\\n",
       "0        Aamir Khan,Sakshi Tanwar,Fatima Sana Shaikh   \n",
       "1              Aamir Khan,Anushka Sharma,Sanjay Dutt   \n",
       "2  Salman Khan,Kareena Kapoor Khan,Nawazuddin Sid...   \n",
       "3             Salman Khan,Anushka Sharma,Marko Zaror   \n",
       "4          Aamir Khan,Katrina Kaif,Abhishek Bachchan   \n",
       "\n",
       "                                 Genre  Gross (India)  \n",
       "0         Action,Biography,Drama,Sport         387.39  \n",
       "1  Comedy,Drama,Fantasy,Romance,Sci-Fi         339.50  \n",
       "2        Action,Adventure,Comedy,Drama         320.34  \n",
       "3    Action,Drama,Family,Romance,Sport         300.45  \n",
       "4          Action,Crime,Drama,Thriller         280.25  "
      ]
     },
     "execution_count": 99,
     "metadata": {},
     "output_type": "execute_result"
    }
   ],
   "source": [
    "movies_with_gross_india.head()"
   ]
  },
  {
   "cell_type": "code",
   "execution_count": 111,
   "metadata": {},
   "outputs": [
    {
     "name": "stdout",
     "output_type": "stream",
     "text": [
      "7.5 58.53999999999999\n",
      "51.03999999999999\n"
     ]
    }
   ],
   "source": [
    "# Finding the outliers in the dataset\n",
    "q1 = movies_with_gross_india['Gross (India)'].quantile(0.25)\n",
    "q3 = movies_with_gross_india['Gross (India)'].quantile(0.75)\n",
    "print(q1,q3)\n",
    "print(q3 -q1)"
   ]
  },
  {
   "cell_type": "code",
   "execution_count": 118,
   "metadata": {},
   "outputs": [
    {
     "data": {
      "text/html": [
       "<div>\n",
       "<style scoped>\n",
       "    .dataframe tbody tr th:only-of-type {\n",
       "        vertical-align: middle;\n",
       "    }\n",
       "\n",
       "    .dataframe tbody tr th {\n",
       "        vertical-align: top;\n",
       "    }\n",
       "\n",
       "    .dataframe thead th {\n",
       "        text-align: right;\n",
       "    }\n",
       "</style>\n",
       "<table border=\"1\" class=\"dataframe\">\n",
       "  <thead>\n",
       "    <tr style=\"text-align: right;\">\n",
       "      <th></th>\n",
       "      <th>Rating</th>\n",
       "      <th>Votes</th>\n",
       "      <th>Gross</th>\n",
       "      <th>Gross (India)</th>\n",
       "    </tr>\n",
       "  </thead>\n",
       "  <tbody>\n",
       "    <tr>\n",
       "      <th>count</th>\n",
       "      <td>117.000000</td>\n",
       "      <td>117.000000</td>\n",
       "      <td>1.170000e+02</td>\n",
       "      <td>117.000000</td>\n",
       "    </tr>\n",
       "    <tr>\n",
       "      <th>mean</th>\n",
       "      <td>6.180342</td>\n",
       "      <td>14739.068376</td>\n",
       "      <td>1.360197e+06</td>\n",
       "      <td>81.615983</td>\n",
       "    </tr>\n",
       "    <tr>\n",
       "      <th>std</th>\n",
       "      <td>1.318649</td>\n",
       "      <td>15969.287969</td>\n",
       "      <td>1.945435e+06</td>\n",
       "      <td>73.466779</td>\n",
       "    </tr>\n",
       "    <tr>\n",
       "      <th>min</th>\n",
       "      <td>2.300000</td>\n",
       "      <td>324.000000</td>\n",
       "      <td>6.108000e+03</td>\n",
       "      <td>6.000000</td>\n",
       "    </tr>\n",
       "    <tr>\n",
       "      <th>25%</th>\n",
       "      <td>5.400000</td>\n",
       "      <td>4179.000000</td>\n",
       "      <td>3.369850e+05</td>\n",
       "      <td>30.900000</td>\n",
       "    </tr>\n",
       "    <tr>\n",
       "      <th>50%</th>\n",
       "      <td>6.100000</td>\n",
       "      <td>8526.000000</td>\n",
       "      <td>5.860280e+05</td>\n",
       "      <td>58.000000</td>\n",
       "    </tr>\n",
       "    <tr>\n",
       "      <th>75%</th>\n",
       "      <td>7.200000</td>\n",
       "      <td>19699.000000</td>\n",
       "      <td>1.535234e+06</td>\n",
       "      <td>105.500000</td>\n",
       "    </tr>\n",
       "    <tr>\n",
       "      <th>max</th>\n",
       "      <td>8.700000</td>\n",
       "      <td>106800.000000</td>\n",
       "      <td>1.115190e+07</td>\n",
       "      <td>387.390000</td>\n",
       "    </tr>\n",
       "  </tbody>\n",
       "</table>\n",
       "</div>"
      ],
      "text/plain": [
       "           Rating          Votes         Gross  Gross (India)\n",
       "count  117.000000     117.000000  1.170000e+02     117.000000\n",
       "mean     6.180342   14739.068376  1.360197e+06      81.615983\n",
       "std      1.318649   15969.287969  1.945435e+06      73.466779\n",
       "min      2.300000     324.000000  6.108000e+03       6.000000\n",
       "25%      5.400000    4179.000000  3.369850e+05      30.900000\n",
       "50%      6.100000    8526.000000  5.860280e+05      58.000000\n",
       "75%      7.200000   19699.000000  1.535234e+06     105.500000\n",
       "max      8.700000  106800.000000  1.115190e+07     387.390000"
      ]
     },
     "execution_count": 118,
     "metadata": {},
     "output_type": "execute_result"
    }
   ],
   "source": [
    "iqr = q3 - q1\n",
    "outliers = movies_with_gross_india.query('Gross > (@q3 + 1.5 * @iqr)')\n",
    "outliers.describe()"
   ]
  },
  {
   "cell_type": "code",
   "execution_count": 119,
   "metadata": {},
   "outputs": [
    {
     "name": "stdout",
     "output_type": "stream",
     "text": [
      "Median gross of all movies = 26.535\n",
      "Median gross of outliers = 58.0\n",
      "Ratio of mean gross = 1.8697143350619452\n",
      "Ratio of median gross = 2.185792349726776\n",
      "Percentage of outliers = 30.789473684210527\n"
     ]
    }
   ],
   "source": [
    "# Comparison of all movies versus outliers\n",
    "print(\"Median gross of all movies = {}\".format(movies_with_gross_india['Gross (India)'].median()))\n",
    "print(\"Median gross of outliers = {}\".format(outliers['Gross (India)'].median()))\n",
    "print(\"Ratio of mean gross = {}\".format(outliers['Gross (India)'].mean()/movies_with_gross_india['Gross (India)'].mean()))\n",
    "print(\"Ratio of median gross = {}\".format(outliers['Gross (India)'].median()/movies_with_gross_india['Gross (India)'].median()))\n",
    "print(\"Percentage of outliers = {}\".format(outliers['Title'].count()/movies_with_gross_india['Title'].count() * 100))"
   ]
  },
  {
   "cell_type": "markdown",
   "metadata": {},
   "source": [
    "**30.8%** are considered as outliers. These movies have a mean that is **1.8** times higher where median is **2.2** times higher.\n"
   ]
  },
  {
   "cell_type": "code",
   "execution_count": 120,
   "metadata": {},
   "outputs": [
    {
     "data": {
      "image/png": "[encoded data removed]",
      "text/plain": [
       "<Figure size 864x432 with 1 Axes>"
      ]
     },
     "metadata": {},
     "output_type": "display_data"
    }
   ],
   "source": [
    "# Plot a histogram of Indian gross (Outliers)\n",
    "plt.hist(outliers['Gross (India)'].sort_values(), bins=76)\n",
    "plt.title(\"Box Office Gross (India) [OUTLIERS]\")\n",
    "plt.xlabel(\"Box Office Gross in 1e7 INR\")\n",
    "plt.ylabel(\"Number of Movies\")\n",
    "plt.show()"
   ]
  },
  {
   "cell_type": "markdown",
   "metadata": {},
   "source": [
    "The ditribution is skewed to the the right and this shows that there exists outliers even within the outliers."
   ]
  },
  {
   "cell_type": "code",
   "execution_count": 121,
   "metadata": {},
   "outputs": [
    {
     "name": "stdout",
     "output_type": "stream",
     "text": [
      "Movies which have an Indian box office gross above INR 100cr:\n"
     ]
    },
    {
     "data": {
      "text/html": [
       "<div>\n",
       "<style scoped>\n",
       "    .dataframe tbody tr th:only-of-type {\n",
       "        vertical-align: middle;\n",
       "    }\n",
       "\n",
       "    .dataframe tbody tr th {\n",
       "        vertical-align: top;\n",
       "    }\n",
       "\n",
       "    .dataframe thead th {\n",
       "        text-align: right;\n",
       "    }\n",
       "</style>\n",
       "<table border=\"1\" class=\"dataframe\">\n",
       "  <thead>\n",
       "    <tr style=\"text-align: right;\">\n",
       "      <th></th>\n",
       "      <th>Title</th>\n",
       "      <th>Director</th>\n",
       "      <th>Stars</th>\n",
       "      <th>Rating</th>\n",
       "      <th>Gross</th>\n",
       "      <th>Gross (India)</th>\n",
       "      <th>Release</th>\n",
       "    </tr>\n",
       "  </thead>\n",
       "  <tbody>\n",
       "    <tr>\n",
       "      <th>0</th>\n",
       "      <td>Dangal</td>\n",
       "      <td>Nitesh Tiwari</td>\n",
       "      <td>Aamir Khan,Sakshi Tanwar,Fatima Sana Shaikh</td>\n",
       "      <td>8.7</td>\n",
       "      <td>11151900.0</td>\n",
       "      <td>387.39</td>\n",
       "      <td>21-Dec-16</td>\n",
       "    </tr>\n",
       "    <tr>\n",
       "      <th>1</th>\n",
       "      <td>PK</td>\n",
       "      <td>Rajkumar Hirani</td>\n",
       "      <td>Aamir Khan,Anushka Sharma,Sanjay Dutt</td>\n",
       "      <td>8.2</td>\n",
       "      <td>10572800.0</td>\n",
       "      <td>339.50</td>\n",
       "      <td>19-Dec-14</td>\n",
       "    </tr>\n",
       "    <tr>\n",
       "      <th>2</th>\n",
       "      <td>Bajrangi Bhaijaan</td>\n",
       "      <td>Kabir Khan</td>\n",
       "      <td>Salman Khan,Kareena Kapoor Khan,Nawazuddin Sid...</td>\n",
       "      <td>8.1</td>\n",
       "      <td>7655452.0</td>\n",
       "      <td>320.34</td>\n",
       "      <td>17-Jul-15</td>\n",
       "    </tr>\n",
       "    <tr>\n",
       "      <th>3</th>\n",
       "      <td>Sultan</td>\n",
       "      <td>Ali Abbas Zafar</td>\n",
       "      <td>Salman Khan,Anushka Sharma,Marko Zaror</td>\n",
       "      <td>7.2</td>\n",
       "      <td>6173.0</td>\n",
       "      <td>300.45</td>\n",
       "      <td>6-Jul-16</td>\n",
       "    </tr>\n",
       "    <tr>\n",
       "      <th>4</th>\n",
       "      <td>Dhoom 3</td>\n",
       "      <td>Vijay Krishna Acharya</td>\n",
       "      <td>Aamir Khan,Katrina Kaif,Abhishek Bachchan</td>\n",
       "      <td>5.4</td>\n",
       "      <td>8031955.0</td>\n",
       "      <td>280.25</td>\n",
       "      <td>20-Dec-13</td>\n",
       "    </tr>\n",
       "    <tr>\n",
       "      <th>5</th>\n",
       "      <td>Krrish 3</td>\n",
       "      <td>Rakesh Roshan</td>\n",
       "      <td>Priyanka Chopra,Hrithik Roshan,Amitabh Bachchan</td>\n",
       "      <td>5.3</td>\n",
       "      <td>2191343.0</td>\n",
       "      <td>240.50</td>\n",
       "      <td>1-Nov-13</td>\n",
       "    </tr>\n",
       "    <tr>\n",
       "      <th>6</th>\n",
       "      <td>Kick</td>\n",
       "      <td>Sajid Nadiadwala</td>\n",
       "      <td>Salman Khan,Jacqueline Fernandez,Nawazuddin Si...</td>\n",
       "      <td>5.5</td>\n",
       "      <td>2461031.0</td>\n",
       "      <td>233.00</td>\n",
       "      <td>25-Jul-14</td>\n",
       "    </tr>\n",
       "    <tr>\n",
       "      <th>7</th>\n",
       "      <td>Chennai Express</td>\n",
       "      <td>Rohit Shetty</td>\n",
       "      <td>Deepika Padukone,Shah Rukh Khan,Sathyaraj</td>\n",
       "      <td>6.0</td>\n",
       "      <td>5306729.0</td>\n",
       "      <td>226.70</td>\n",
       "      <td>8-Aug-13</td>\n",
       "    </tr>\n",
       "    <tr>\n",
       "      <th>8</th>\n",
       "      <td>Prem Ratan Dhan Payo</td>\n",
       "      <td>Sooraj R. Barjatya</td>\n",
       "      <td>Salman Khan,Sonam Kapoor,Neil Nitin Mukesh</td>\n",
       "      <td>4.7</td>\n",
       "      <td>4328805.0</td>\n",
       "      <td>207.40</td>\n",
       "      <td>12-Nov-15</td>\n",
       "    </tr>\n",
       "    <tr>\n",
       "      <th>9</th>\n",
       "      <td>Happy New Year</td>\n",
       "      <td>Farah Khan</td>\n",
       "      <td>Shah Rukh Khan,Deepika Padukone,Abhishek Bachchan</td>\n",
       "      <td>5.2</td>\n",
       "      <td>NaN</td>\n",
       "      <td>205.00</td>\n",
       "      <td>24-Oct-14</td>\n",
       "    </tr>\n",
       "  </tbody>\n",
       "</table>\n",
       "</div>"
      ],
      "text/plain": [
       "                  Title               Director  \\\n",
       "0                Dangal          Nitesh Tiwari   \n",
       "1                    PK        Rajkumar Hirani   \n",
       "2     Bajrangi Bhaijaan             Kabir Khan   \n",
       "3                Sultan        Ali Abbas Zafar   \n",
       "4               Dhoom 3  Vijay Krishna Acharya   \n",
       "5              Krrish 3          Rakesh Roshan   \n",
       "6                  Kick       Sajid Nadiadwala   \n",
       "7       Chennai Express           Rohit Shetty   \n",
       "8  Prem Ratan Dhan Payo     Sooraj R. Barjatya   \n",
       "9        Happy New Year             Farah Khan   \n",
       "\n",
       "                                               Stars  Rating       Gross  \\\n",
       "0        Aamir Khan,Sakshi Tanwar,Fatima Sana Shaikh     8.7  11151900.0   \n",
       "1              Aamir Khan,Anushka Sharma,Sanjay Dutt     8.2  10572800.0   \n",
       "2  Salman Khan,Kareena Kapoor Khan,Nawazuddin Sid...     8.1   7655452.0   \n",
       "3             Salman Khan,Anushka Sharma,Marko Zaror     7.2      6173.0   \n",
       "4          Aamir Khan,Katrina Kaif,Abhishek Bachchan     5.4   8031955.0   \n",
       "5    Priyanka Chopra,Hrithik Roshan,Amitabh Bachchan     5.3   2191343.0   \n",
       "6  Salman Khan,Jacqueline Fernandez,Nawazuddin Si...     5.5   2461031.0   \n",
       "7          Deepika Padukone,Shah Rukh Khan,Sathyaraj     6.0   5306729.0   \n",
       "8         Salman Khan,Sonam Kapoor,Neil Nitin Mukesh     4.7   4328805.0   \n",
       "9  Shah Rukh Khan,Deepika Padukone,Abhishek Bachchan     5.2         NaN   \n",
       "\n",
       "   Gross (India)    Release  \n",
       "0         387.39  21-Dec-16  \n",
       "1         339.50  19-Dec-14  \n",
       "2         320.34  17-Jul-15  \n",
       "3         300.45   6-Jul-16  \n",
       "4         280.25  20-Dec-13  \n",
       "5         240.50   1-Nov-13  \n",
       "6         233.00  25-Jul-14  \n",
       "7         226.70   8-Aug-13  \n",
       "8         207.40  12-Nov-15  \n",
       "9         205.00  24-Oct-14  "
      ]
     },
     "execution_count": 121,
     "metadata": {},
     "output_type": "execute_result"
    }
   ],
   "source": [
    "# Outliers amongst the outliers\n",
    "print(\"Movies which have an Indian box office gross above INR 100cr:\")\n",
    "high_gross_in_india = movies_with_gross_india[movies_with_gross_india['Gross (India)'] > 100]\n",
    "high_gross_in_india.sort_values('Gross (India)', ascending=False).reset_index(inplace=True)\n",
    "high_gross_in_india[['Title', 'Director', 'Stars', 'Rating', 'Gross', 'Gross (India)', 'Release']] [:10]"
   ]
  },
  {
   "cell_type": "markdown",
   "metadata": {},
   "source": [
    "Dangal and PK are the highest grossers in India. Both Aamir Khan starrers."
   ]
  },
  {
   "cell_type": "code",
   "execution_count": null,
   "metadata": {},
   "outputs": [],
   "source": []
  },
  {
   "cell_type": "code",
   "execution_count": null,
   "metadata": {},
   "outputs": [],
   "source": []
  }
 ],
 "metadata": {
  "kernelspec": {
   "display_name": "Python 3",
   "language": "python",
   "name": "python3"
  },
  "language_info": {
   "codemirror_mode": {
    "name": "ipython",
    "version": 3
   },
   "file_extension": ".py",
   "mimetype": "text/x-python",
   "name": "python",
   "nbconvert_exporter": "python",
   "pygments_lexer": "ipython3",
   "version": "3.7.0"
  }
 },
 "nbformat": 4,
 "nbformat_minor": 2
}
